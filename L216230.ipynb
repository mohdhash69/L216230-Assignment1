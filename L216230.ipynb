{
  "nbformat": 4,
  "nbformat_minor": 0,
  "metadata": {
    "colab": {
      "provenance": [],
      "collapsed_sections": []
    },
    "kernelspec": {
      "name": "python3",
      "display_name": "Python 3"
    },
    "language_info": {
      "name": "python"
    }
  },
  "cells": [
    {
      "cell_type": "markdown",
      "source": [
        "# Introduction To Data Science – Assignment 1\n",
        "\n",
        "---\n",
        "\n",
        "### Sections A – B – C – D\n",
        "\n",
        "---\n",
        "\n",
        "***Instructions***\n",
        "\n",
        "Due Date: Sunday 18th September 2022 – 11:59PM\n",
        "\n",
        "Name the file in the format Lyyxxxx and save it as .ipynb (e.g. L201234.ipynb)\n",
        "\n",
        "Submission will be taken on **GitHub and Google Classroom (submit the .ipynb file)** - Instructions to upload onto GitHub are provided in the link https://docs.google.com/document/d/1BR1ULOGeGWJVU6Rr6Qty1FR-quVRZyRvQGII6nEs-wo/edit?usp=sharing\n",
        "\n",
        "After uploading and submitting the .ipynb file onto Google Classroom, also private comment the link to the GitHub repository.\n",
        "\n",
        "All source files needed to complete this assignment can be found on the following Google Drive link https://drive.google.com/drive/folders/1VrkaVcExGWqilSeh50WZe4gUBjmUiJ9b?usp=sharing\n",
        "\n",
        "TA Emails\n",
        "\n",
        "Section A, C - Muhammad Maarij l192347@lhr.nu.edu.pk\n",
        "\n",
        "Section B, D - Hira Ijaz l192377@lhr.nu.edu.pk\n",
        "\n",
        "Happy Coding 😊\n",
        "\n",
        "---"
      ],
      "metadata": {
        "id": "TWWLTwYZorzC"
      }
    },
    {
      "cell_type": "markdown",
      "source": [
        "---\n",
        "## Question 1\n",
        "---"
      ],
      "metadata": {
        "id": "arB_0r9H0jjC"
      }
    },
    {
      "cell_type": "markdown",
      "source": [
        "Define a procedure called \"check_input\" that takes an input as a square list of lists (2D Matrix of N x N) and returns a boolen \"true\" if the input is valid or \"false\" otherwise, according to the following criteria.\n",
        "\n",
        "1. Each coloumn must contain numbers from between 1 and N, with no duplicates.\n",
        "2. Each row must contain numbers from between 1 and N, with no duplicates."
      ],
      "metadata": {
        "id": "qHPTNDy30n99"
      }
    },
    {
      "cell_type": "code",
      "source": [
        "# define procedure here\n",
        "def check_input(test):\n",
        "  rep = True\n",
        "  leng = len(test)\n",
        "  z = range(leng)\n",
        "  #for rows\n",
        "  for x in range(leng):\n",
        "    for k in range(leng-1):\n",
        "      if test[x][k] == test[x][k+1]:\n",
        "        rep = False\n",
        "        break\n",
        "        #For coloums\n",
        "  for x in range(leng-1):\n",
        "      for k in range(leng):\n",
        "        if test[x+1][k] == test[x][k]:\n",
        "         rep = False\n",
        "        break\n",
        "  return rep"
      ],
      "metadata": {
        "id": "S2_Zic322Lt7"
      },
      "execution_count": null,
      "outputs": []
    },
    {
      "cell_type": "code",
      "source": [
        "# run this block to test code after defining the procedure\n",
        "\n",
        "test1 = [[1, 2, 3],\n",
        "        [2, 3, 1],\n",
        "        [3, 1, 2]]\n",
        "\n",
        "test2 = [[1, 2, 3, 4],\n",
        "        [2, 3, 1, 3],\n",
        "        [3, 1, 2, 3],\n",
        "        [4, 4, 4, 4]]\n",
        "\n",
        "test3 = [['a', 'b', 'c'],\n",
        "        ['b', 'c', 'a'],\n",
        "        ['c', 'a', 'b']]\n",
        "\n",
        "print(check_input(test1)) # must return true\n",
        "print(check_input(test2)) # must return false\n",
        "print(check_input(test3)) # must return false"
      ],
      "metadata": {
        "id": "wdL9MWgq2ZbP",
        "colab": {
          "base_uri": "https://localhost:8080/"
        },
        "outputId": "f5c79901-fb1e-4ca8-f9ad-59bdd419ecc1"
      },
      "execution_count": null,
      "outputs": [
        {
          "output_type": "stream",
          "name": "stdout",
          "text": [
            "True\n",
            "False\n",
            "True\n"
          ]
        }
      ]
    },
    {
      "cell_type": "markdown",
      "source": [
        "---\n",
        "## Question 2\n",
        "---"
      ],
      "metadata": {
        "id": "4RVTlnhWqOUC"
      }
    },
    {
      "cell_type": "markdown",
      "source": [
        "**Part A** - Import the file \"StudentMarkSheet.csv\" as a Pandas DataFrame and print the information for the dataframe"
      ],
      "metadata": {
        "id": "Uyc7JPtNt0pR"
      }
    },
    {
      "cell_type": "code",
      "execution_count": null,
      "metadata": {
        "id": "wYrt7e6Xop2P"
      },
      "outputs": [],
      "source": [
        "import pandas as pd\n",
        "record=pd.read_csv(\"StudentMarkSheet.csv\")\n",
        "record.info()\n",
        "print(record)"
      ]
    },
    {
      "cell_type": "markdown",
      "source": [
        "**Part B** - Remove any rows that do not contain all the data. Also print the following information.\n",
        "\n",
        "1. Number of rows before\n",
        "2. Number of rows containing null data\n",
        "3. Number of rows after"
      ],
      "metadata": {
        "id": "jIaMvgcft_i0"
      }
    },
    {
      "cell_type": "code",
      "source": [
        "import pandas as pd\n",
        "record=pd.read_csv(\"StudentMarkSheet.csv\")\n",
        "x=len(record)\n",
        "print(\"Rows Before: \",x)\n",
        "Data_Rows= record.dropna()\n",
        "Null_Rows= len(record.index)- len(Data_Rows.index)\n",
        "print(\"Rows containing null data:\", Null_Rows)\n",
        "print(\"Number of rows after:\", len(Data_Rows))\n",
        "\n"
      ],
      "metadata": {
        "id": "_ov_SWdxuZUm",
        "colab": {
          "base_uri": "https://localhost:8080/"
        },
        "outputId": "bb8928b3-80bb-4c96-c566-ae7ad8ca6381"
      },
      "execution_count": null,
      "outputs": [
        {
          "output_type": "stream",
          "name": "stdout",
          "text": [
            "Rows Before:  200\n",
            "Rows containing null data: 4\n",
            "Number of rows after: 196\n"
          ]
        }
      ]
    },
    {
      "cell_type": "markdown",
      "source": [
        "**Part C** - Print all the marks along with the subject for the student named \"James Walker\""
      ],
      "metadata": {
        "id": "2kd9zAX6wkXM"
      }
    },
    {
      "cell_type": "code",
      "source": [
        "import pandas as pd\n",
        "record= pd.read_csv(\"StudentMarkSheet.csv\")\n",
        "Results= record[record['Student name']=='James Walker']\n",
        "print(Results)"
      ],
      "metadata": {
        "id": "N0HWJN-PwuSo",
        "colab": {
          "base_uri": "https://localhost:8080/"
        },
        "outputId": "852de6e8-fb96-45c4-d498-6fa500d04183"
      },
      "execution_count": null,
      "outputs": [
        {
          "output_type": "stream",
          "name": "stdout",
          "text": [
            "     Student name    Exam name   Exam date  Marks\n",
            "0    James Walker      Biology  05/06/2016   31.0\n",
            "42   James Walker    Chemistry  15/06/2016   61.0\n",
            "71   James Walker  Mathematics  29/07/2016   23.0\n",
            "150  James Walker      Physics  10/06/2016  100.0\n",
            "180  James Walker    Sociology  21/06/2016   73.0\n"
          ]
        }
      ]
    },
    {
      "cell_type": "markdown",
      "source": [
        "---\n",
        "## Question 3\n",
        "---"
      ],
      "metadata": {
        "id": "ts8Y1EXmwzhf"
      }
    },
    {
      "cell_type": "markdown",
      "source": [
        "**Part A** - From the DataFrame created in Question 2, calculate the average marks for each subject"
      ],
      "metadata": {
        "id": "PJENm_hpw3GQ"
      }
    },
    {
      "cell_type": "code",
      "source": [
        "import pandas as pd\n",
        "import numpy as np\n",
        "record = pd.read_csv(\"StudentMarkSheet.csv\")\n",
        "biology = record[record['Exam name']=='Biology']['Marks'].mean()\n",
        "print (\"Average Marks for subject Biology are : \",biology)\n",
        "chemisrty= record[record['Exam name']=='Chemistry']['Marks'].mean()\n",
        "print (\"Average Marks for subject Chemistry are : \",chemisrty)\n",
        "Maths=record[record['Exam name']=='Mathematics']['Marks'].mean()\n",
        "print (\"Average Marks for subject Maths are : \",Maths)\n",
        "Philosophy=record[record['Exam name']=='Philosophy']['Marks'].mean()\n",
        "print(\"Average Marks for subject  Philosophy are :\", Philosophy)\n",
        "Physics=record[record['Exam name']=='Physics']['Marks'].mean()\n",
        "print(\"Average Marks for subject Physics are :\", Physics)\n",
        "sociology=record[record['Exam name']=='Sociology']['Marks'].mean()\n",
        "print(\"Average Marks for subject sociology are :\", sociology)"
      ],
      "metadata": {
        "id": "AxhCtST5xS3L",
        "colab": {
          "base_uri": "https://localhost:8080/"
        },
        "outputId": "60de65d4-adbb-41e3-adc0-7abdaa1ed7b4"
      },
      "execution_count": null,
      "outputs": [
        {
          "output_type": "stream",
          "name": "stdout",
          "text": [
            "Average Marks for subject Biology are :  47.89473684210526\n",
            "Average Marks for subject Chemistry are :  50.57692307692308\n",
            "Average Marks for subject Maths are :  48.97222222222222\n",
            "Average Marks for subject  Philosophy are : 47.270270270270274\n",
            "Average Marks for subject Physics are : 51.76190476190476\n",
            "Average Marks for subject sociology are : 56.026315789473685\n"
          ]
        }
      ]
    },
    {
      "cell_type": "markdown",
      "source": [
        "**Part B** - Using the averages you just calculated, plot a Bar Graph showing the average marks of each subject"
      ],
      "metadata": {
        "id": "NDlaA7hHxUBc"
      }
    },
    {
      "cell_type": "code",
      "source": [
        "import pandas as pd\n",
        "import numpy as np\n",
        "import matplotlib.pyplot as plt\n",
        "record= pd.read_csv(\"StudentMarkSheet.csv\")\n",
        "record = {'Biology':48, 'Chemistry':51, 'Mathematics':49,'Philosophy':47 , 'Physics' :52 , 'Sociology' : 56}\n",
        "Subjects= list(record.keys())\n",
        "Avg=list(record.values())\n",
        "Img= plt.figure(figsize=(10,3))\n",
        "plt.bar(Subjects, Avg, color ='red',width = 0.7)\n",
        "plt.xlabel(\"Subjects\")\n",
        "plt.ylabel(\"Average\")\n",
        "plt.title(\"Averages of Subjects\")\n",
        "plt.show()\n",
        "\n",
        "\n"
      ],
      "metadata": {
        "id": "LWoPFZBOyyNn",
        "colab": {
          "base_uri": "https://localhost:8080/",
          "height": 241
        },
        "outputId": "9426f0de-05ad-4f47-e102-006397cd451f"
      },
      "execution_count": null,
      "outputs": [
        {
          "output_type": "display_data",
          "data": {
            "text/plain": [
              "<Figure size 720x216 with 1 Axes>"
            ],
            "image/png": "[encoded data removed]"
          },
          "metadata": {
            "needs_background": "light"
          }
        }
      ]
    },
    {
      "cell_type": "markdown",
      "source": [
        "---\n",
        "## Question 4\n",
        "---"
      ],
      "metadata": {
        "id": "dWlOSOIs6d1R"
      }
    },
    {
      "cell_type": "markdown",
      "source": [
        "**Part A** - Import the file \"CatData.csv\" and preprocess it to remove any null values"
      ],
      "metadata": {
        "id": "b4s-pN4v6kgb"
      }
    },
    {
      "cell_type": "code",
      "source": [
        "import pandas as pd\n",
        "record= pd.read_csv(\"CatData.csv\")\n",
        "record.dropna(inplace=True)\n",
        "print(record)"
      ],
      "metadata": {
        "id": "mvZ3xrBV9b1s",
        "colab": {
          "base_uri": "https://localhost:8080/"
        },
        "outputId": "df21a791-5829-42a3-c152-66cca3ada013"
      },
      "execution_count": null,
      "outputs": [
        {
          "output_type": "stream",
          "name": "stdout",
          "text": [
            "     Tail Length (cm)  Mass (kg)\n",
            "0                18.1      3.750\n",
            "1                18.6      3.800\n",
            "2                19.5      3.250\n",
            "3                19.3      3.450\n",
            "4                19.0      3.650\n",
            "..                ...        ...\n",
            "337              20.7      4.000\n",
            "338              20.2      3.400\n",
            "339              19.3      3.775\n",
            "340              21.0      4.100\n",
            "341              19.8      3.775\n",
            "\n",
            "[342 rows x 2 columns]\n"
          ]
        }
      ]
    },
    {
      "cell_type": "markdown",
      "source": [
        "**Part B** - Identify the independant and dependant variables (comment answer below)"
      ],
      "metadata": {
        "id": "bWxuB3ep9SWA"
      }
    },
    {
      "cell_type": "code",
      "source": [
        "# dependant variable: mass\n",
        "# independant variable: tail lenght"
      ],
      "metadata": {
        "id": "TS9tvuRt9cWr"
      },
      "execution_count": null,
      "outputs": []
    },
    {
      "cell_type": "markdown",
      "source": [
        "**Part C** - Create a linear regression model using sklearn and fit it to the data you just imported\n"
      ],
      "metadata": {
        "id": "xPHVA3cX7uk9"
      }
    },
    {
      "cell_type": "code",
      "source": [
        "import pandas as pd\n",
        "import numpy as np\n",
        "import matplotlib.pyplot as plt\n",
        "from sklearn import linear_model\n",
        "record = pd.read_csv(\"CatData.csv\")\n",
        "no=int(len(record)*0.8)\n",
        "regres=linear_model.LinearRegression()\n",
        "test=record[no:]\n",
        "train=record[:no]\n",
        "train1=np.array(train[[\"Tail Length (cm)\"]])\n",
        "train2=np.array(train[[\"Mass (kg)\"]])\n",
        "regres.fit(train1,train2)\n",
        "grad = regres.coef_\n",
        "intercept=regres.intercept_\n"
      ],
      "metadata": {
        "id": "WYVNRotH9cyo"
      },
      "execution_count": null,
      "outputs": []
    },
    {
      "cell_type": "markdown",
      "source": [
        "**Part D** - Print the values for slope and y-intercept"
      ],
      "metadata": {
        "id": "0QMipKhb830G"
      }
    },
    {
      "cell_type": "code",
      "source": [
        "print(\"y-intercept:\", intercept)\n",
        "print(\"Slope:\", grad)"
      ],
      "metadata": {
        "id": "R7cvi3KB9dJh",
        "colab": {
          "base_uri": "https://localhost:8080/"
        },
        "outputId": "6daee5b1-4d78-4e5e-83b1-8aba8e214324"
      },
      "execution_count": null,
      "outputs": [
        {
          "output_type": "stream",
          "name": "stdout",
          "text": [
            "y-intercept: [-5.57328662]\n",
            "Slope: [[0.48913766]]\n"
          ]
        }
      ]
    },
    {
      "cell_type": "markdown",
      "source": [
        "**Part E** - Plot a scatter graph of the original data and a regression line on the same figure (example with dummy data shown below)\n",
        "\n",
        "![](https://drive.google.com/uc?export=view&id=1o_NAsNjfx7zAh9m-UjvWB3rta6uraKdY)"
      ],
      "metadata": {
        "id": "IIq-BQYp_i33"
      }
    },
    {
      "cell_type": "code",
      "source": [
        "import matplotlib.pyplot as plt\n",
        "plt.scatter(train[\"Tail Length (cm)\"],train[\"Mass (kg)\"])\n",
        "plt.plot(train1,grad[0]*train1+intercept,color=\"red\")\n",
        "plt.ylabel(\"Mass\")\n",
        "plt.xlabel(\"Tail Length\")\n",
        "plt.title(\"Mass/Tail Length\")\n",
        "plt.show()"
      ],
      "metadata": {
        "id": "jhz8gTYt_lCn",
        "colab": {
          "base_uri": "https://localhost:8080/",
          "height": 295
        },
        "outputId": "e46a2d15-dfd1-4c7c-d2b4-c807d1f87669"
      },
      "execution_count": null,
      "outputs": [
        {
          "output_type": "display_data",
          "data": {
            "text/plain": [
              "<Figure size 432x288 with 1 Axes>"
            ],
            "image/png": "[encoded data removed]"
          },
          "metadata": {
            "needs_background": "light"
          }
        }
      ]
    }
  ]
}